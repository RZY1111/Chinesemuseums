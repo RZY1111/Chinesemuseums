{
 "cells": [
  {
   "cell_type": "code",
   "execution_count": 6,
   "metadata": {
    "id": "4EeaaH0DNVtU"
   },
   "outputs": [],
   "source": [
    "import pandas as pd\n",
    "import json"
   ]
  },
  {
   "cell_type": "code",
   "execution_count": 2,
   "metadata": {
    "id": "xAvaR6C9PS5r"
   },
   "outputs": [],
   "source": [
    "import requests\n",
    "import json"
   ]
  },
  {
   "cell_type": "code",
   "execution_count": null,
   "metadata": {
    "id": "aOI5sPnzekAR"
   },
   "outputs": [],
   "source": [
    "url='http://nb.ncha.gov.cn/je/api/load?tableCode=BWG_NBLN&whereSql=AND+NB_ND+%3D+2021&orderSql=ORDER+BY+NB_CPZS+DESC&page=1&start=0&limit=10000'\n",
    "r=requests.get(url)\n",
    "fileObject = open('/content/drive/MyDrive/museum/2021.json', 'w')\n",
    "b=dict(r.json())  \n",
    "fileObject.write(json.dumps(b))  \n",
    "fileObject.close()"
   ]
  },
  {
   "cell_type": "code",
   "execution_count": null,
   "metadata": {
    "id": "BpGfu-hySs9r"
   },
   "outputs": [],
   "source": [
    "url='http://nb.ncha.gov.cn/je/api/load?tableCode=BWG_NBLN&whereSql=AND+NB_ND+%3D+2020&orderSql=ORDER+BY+NB_CPZS+DESC&page=1&start=0&limit=10000'\n",
    "r=requests.get(url)\n",
    "fileObject = open('/content/drive/MyDrive/museum/2020.json', 'w')\n",
    "b=dict(r.json())  \n",
    "fileObject.write(json.dumps(b))  \n",
    "fileObject.close()"
   ]
  },
  {
   "cell_type": "code",
   "execution_count": null,
   "metadata": {
    "id": "wQ1uwsLpTC8-"
   },
   "outputs": [],
   "source": [
    "url='http://nb.ncha.gov.cn/je/api/load?tableCode=BWG_NBLN&whereSql=AND+NB_ND+%3D+2019&orderSql=ORDER+BY+NB_CPZS+DESC&page=1&start=0&limit=10000'\n",
    "r=requests.get(url)\n",
    "fileObject = open('/content/drive/MyDrive/museum/2019.json', 'w')\n",
    "b=dict(r.json())  \n",
    "fileObject.write(json.dumps(b))  \n",
    "fileObject.close()"
   ]
  },
  {
   "cell_type": "code",
   "execution_count": null,
   "metadata": {
    "id": "BR6c1ZbJXPF0"
   },
   "outputs": [],
   "source": [
    "url='http://nb.ncha.gov.cn/je/api/load?tableCode=BWG_NBLN&whereSql=AND+NB_ND+%3D+2018&orderSql=ORDER+BY+NB_CPZS+DESC&page=1&start=0&limit=10000'\n",
    "r=requests.get(url)\n",
    "fileObject = open('/content/drive/MyDrive/museum/2018.json', 'w')\n",
    "b=dict(r.json())  \n",
    "fileObject.write(json.dumps(b))  \n",
    "fileObject.close()"
   ]
  },
  {
   "cell_type": "code",
   "execution_count": 9,
   "metadata": {},
   "outputs": [],
   "source": [
    "for i in ['2018','2019','2020','2021']:\n",
    "    with open(\"/content/drive/MyDrive/museum/\"+i+\".json\",'r') as load_f:\n",
    "        load_dict = json.load(load_f)\n",
    "    df=pd.read_json(json.dumps(load_dict['rows']))\n",
    "    df.to_excel('museum_report_'+i+'.xlsx')"
   ]
  },
  {
   "cell_type": "code",
   "execution_count": null,
   "metadata": {},
   "outputs": [],
   "source": []
  }
 ],
 "metadata": {
  "colab": {
   "provenance": []
  },
  "kernelspec": {
   "display_name": "Python 3 (ipykernel)",
   "language": "python",
   "name": "python3"
  },
  "language_info": {
   "codemirror_mode": {
    "name": "ipython",
    "version": 3
   },
   "file_extension": ".py",
   "mimetype": "text/x-python",
   "name": "python",
   "nbconvert_exporter": "python",
   "pygments_lexer": "ipython3",
   "version": "3.9.12"
  }
 },
 "nbformat": 4,
 "nbformat_minor": 1
}
